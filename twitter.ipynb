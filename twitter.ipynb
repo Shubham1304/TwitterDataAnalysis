{
 "cells": [
  {
   "cell_type": "code",
   "execution_count": 1,
   "metadata": {},
   "outputs": [],
   "source": [
    "from pandas import read_csv\n",
    "from datetime import datetime\n",
    "from sklearn.metrics import mean_squared_error\n",
    "import math "
   ]
  },
  {
   "cell_type": "code",
   "execution_count": 13,
   "metadata": {},
   "outputs": [
    {
     "data": {
      "image/png": "[encoded data removed]",
      "text/plain": [
       "<Figure size 432x288 with 4 Axes>"
      ]
     },
     "metadata": {
      "needs_background": "light"
     },
     "output_type": "display_data"
    }
   ],
   "source": [
    "from pandas import read_csv\n",
    "from matplotlib import pyplot\n",
    "# load dataset\n",
    "dataset = read_csv('DataSet.csv', header=0, index_col=0)\n",
    "dataset.values\n",
    "values = dataset.values\n",
    "# specify columns to plot\n",
    "groups = [0, 1, 2, 3]\n",
    "i = 1\n",
    "# plot each column\n",
    "pyplot.figure()\n",
    "for group in groups:\n",
    "    pyplot.subplot(len(groups), 1, i)\n",
    "    pyplot.plot(values[:, group])\n",
    "    pyplot.title(dataset.columns[group], y=1, loc='right')\n",
    "    i += 1\n",
    "pyplot.show()"
   ]
  },
  {
   "cell_type": "code",
   "execution_count": 3,
   "metadata": {},
   "outputs": [
    {
     "data": {
      "text/plain": [
       "array([0.   , 2.   , 0.136, 2.   ])"
      ]
     },
     "execution_count": 3,
     "metadata": {},
     "output_type": "execute_result"
    }
   ],
   "source": [
    "values[1]"
   ]
  },
  {
   "cell_type": "code",
   "execution_count": 4,
   "metadata": {},
   "outputs": [
    {
     "name": "stdout",
     "output_type": "stream",
     "text": [
      "                  retweet_count  favorite_count  followers_count  \\\n",
      "date                                                               \n",
      "12-04-2014 05:44            254             814          43.0000   \n",
      "10-05-2016 20:41              0               2           0.1360   \n",
      "26-09-2018 15:10              1               0           0.0364   \n",
      "22-11-2018 07:47             14               0           1.4300   \n",
      "07-02-2019 11:31            685               0           0.4350   \n",
      "\n",
      "                  predict_class_label  \n",
      "date                                   \n",
      "12-04-2014 05:44                    4  \n",
      "10-05-2016 20:41                    2  \n",
      "26-09-2018 15:10                    4  \n",
      "22-11-2018 07:47                    4  \n",
      "07-02-2019 11:31                    1  \n"
     ]
    }
   ],
   "source": [
    "print (dataset.head())"
   ]
  },
  {
   "cell_type": "code",
   "execution_count": 5,
   "metadata": {},
   "outputs": [
    {
     "name": "stdout",
     "output_type": "stream",
     "text": [
      "      var1(t-1)  var2(t-1)  var3(t-1)  var4(t-1)       var1(t)\n",
      "1  1.530788e-04   0.000557        1.0   1.000000  0.000000e+00\n",
      "2  0.000000e+00   0.000001        0.2   0.333333  6.026725e-07\n",
      "3  6.026725e-07   0.000000        0.0   1.000000  8.437415e-06\n",
      "4  8.437415e-06   0.000000        0.6   1.000000  4.128307e-04\n",
      "5  4.128307e-04   0.000000        0.4   0.000000  4.218708e-06\n"
     ]
    }
   ],
   "source": [
    "import pandas\n",
    "from sklearn.preprocessing import LabelEncoder\n",
    "from sklearn.preprocessing import MinMaxScaler\n",
    "from pandas import DataFrame\n",
    "# convert series to supervised learning\n",
    "def series_to_supervised(data, n_in=1, n_out=1, dropnan=True):\n",
    "\tn_vars = 1 if type(data) is list else data.shape[1]\n",
    "\tdf = DataFrame(data)\n",
    "\tcols, names = list(), list()\n",
    "\t# input sequence (t-n, ... t-1)\n",
    "\tfor i in range(n_in, 0, -1):\n",
    "\t\tcols.append(df.shift(i))\n",
    "\t\tnames += [('var%d(t-%d)' % (j+1, i)) for j in range(n_vars)]\n",
    "\t# forecast sequence (t, t+1, ... t+n)\n",
    "\tfor i in range(0, n_out):\n",
    "\t\tcols.append(df.shift(-i))\n",
    "\t\tif i == 0:\n",
    "\t\t\tnames += [('var%d(t)' % (j+1)) for j in range(n_vars)]\n",
    "\t\telse:\n",
    "\t\t\tnames += [('var%d(t+%d)' % (j+1, i)) for j in range(n_vars)]\n",
    "\t# put it all together\n",
    "\tagg = pandas.concat(cols, axis=1)\n",
    "\tagg.columns = names\n",
    "\t# drop rows with NaN values\n",
    "\tif dropnan:\n",
    "\t\tagg.dropna(inplace=True)\n",
    "\treturn agg\n",
    " \n",
    "# load dataset\n",
    "dataset = read_csv('DataSet.csv', header=0, index_col=0)\n",
    "values = dataset.values\n",
    "# integer encode direction\n",
    "encoder = LabelEncoder()\n",
    "values[:,2] = encoder.fit_transform(values[:,2])\n",
    "# ensure all data is float\n",
    "values = values.astype('float32')\n",
    "# normalize features\n",
    "scaler = MinMaxScaler(feature_range=(0, 1))\n",
    "scaled = scaler.fit_transform(values)\n",
    "# frame as supervised learning\n",
    "reframed = series_to_supervised(scaled, 1, 1)\n",
    "# drop columns we don't want to predict\n",
    "reframed.drop(reframed.columns[[5,6,7,]], axis=1, inplace=True)\n",
    "print(reframed.head())"
   ]
  },
  {
   "cell_type": "code",
   "execution_count": 6,
   "metadata": {},
   "outputs": [
    {
     "data": {
      "text/plain": [
       "array([[2.540e+02, 8.140e+02, 4.300e+01, 4.000e+00],\n",
       "       [0.000e+00, 2.000e+00, 1.360e-01, 2.000e+00],\n",
       "       [1.000e+00, 0.000e+00, 3.640e-02, 4.000e+00],\n",
       "       ...,\n",
       "       [1.375e+03, 5.720e+02, 4.300e+01, 2.000e+00],\n",
       "       [1.200e+01, 0.000e+00, 1.430e+00, 3.000e+00],\n",
       "       [1.700e+01, 5.300e+01, 1.430e+00, 3.000e+00]])"
      ]
     },
     "execution_count": 6,
     "metadata": {},
     "output_type": "execute_result"
    }
   ],
   "source": [
    "dataset.values"
   ]
  },
  {
   "cell_type": "code",
   "execution_count": 7,
   "metadata": {},
   "outputs": [
    {
     "data": {
      "text/html": [
       "<div>\n",
       "<style scoped>\n",
       "    .dataframe tbody tr th:only-of-type {\n",
       "        vertical-align: middle;\n",
       "    }\n",
       "\n",
       "    .dataframe tbody tr th {\n",
       "        vertical-align: top;\n",
       "    }\n",
       "\n",
       "    .dataframe thead th {\n",
       "        text-align: right;\n",
       "    }\n",
       "</style>\n",
       "<table border=\"1\" class=\"dataframe\">\n",
       "  <thead>\n",
       "    <tr style=\"text-align: right;\">\n",
       "      <th></th>\n",
       "      <th>retweet_count</th>\n",
       "      <th>favorite_count</th>\n",
       "      <th>followers_count</th>\n",
       "      <th>predict_class_label</th>\n",
       "    </tr>\n",
       "    <tr>\n",
       "      <th>date</th>\n",
       "      <th></th>\n",
       "      <th></th>\n",
       "      <th></th>\n",
       "      <th></th>\n",
       "    </tr>\n",
       "  </thead>\n",
       "  <tbody>\n",
       "    <tr>\n",
       "      <th>12-04-2014 05:44</th>\n",
       "      <td>254</td>\n",
       "      <td>814</td>\n",
       "      <td>43.0000</td>\n",
       "      <td>4</td>\n",
       "    </tr>\n",
       "    <tr>\n",
       "      <th>10-05-2016 20:41</th>\n",
       "      <td>0</td>\n",
       "      <td>2</td>\n",
       "      <td>0.1360</td>\n",
       "      <td>2</td>\n",
       "    </tr>\n",
       "    <tr>\n",
       "      <th>26-09-2018 15:10</th>\n",
       "      <td>1</td>\n",
       "      <td>0</td>\n",
       "      <td>0.0364</td>\n",
       "      <td>4</td>\n",
       "    </tr>\n",
       "    <tr>\n",
       "      <th>22-11-2018 07:47</th>\n",
       "      <td>14</td>\n",
       "      <td>0</td>\n",
       "      <td>1.4300</td>\n",
       "      <td>4</td>\n",
       "    </tr>\n",
       "    <tr>\n",
       "      <th>07-02-2019 11:31</th>\n",
       "      <td>685</td>\n",
       "      <td>0</td>\n",
       "      <td>0.4350</td>\n",
       "      <td>1</td>\n",
       "    </tr>\n",
       "  </tbody>\n",
       "</table>\n",
       "</div>"
      ],
      "text/plain": [
       "                  retweet_count  favorite_count  followers_count  \\\n",
       "date                                                               \n",
       "12-04-2014 05:44            254             814          43.0000   \n",
       "10-05-2016 20:41              0               2           0.1360   \n",
       "26-09-2018 15:10              1               0           0.0364   \n",
       "22-11-2018 07:47             14               0           1.4300   \n",
       "07-02-2019 11:31            685               0           0.4350   \n",
       "\n",
       "                  predict_class_label  \n",
       "date                                   \n",
       "12-04-2014 05:44                    4  \n",
       "10-05-2016 20:41                    2  \n",
       "26-09-2018 15:10                    4  \n",
       "22-11-2018 07:47                    4  \n",
       "07-02-2019 11:31                    1  "
      ]
     },
     "execution_count": 7,
     "metadata": {},
     "output_type": "execute_result"
    }
   ],
   "source": [
    "dataset.head()"
   ]
  },
  {
   "cell_type": "code",
   "execution_count": 8,
   "metadata": {},
   "outputs": [
    {
     "name": "stdout",
     "output_type": "stream",
     "text": [
      "(8760, 1, 4) (8760,) (29973, 1, 4) (29973,)\n"
     ]
    }
   ],
   "source": [
    "# split into train and test sets\n",
    "values = reframed.values\n",
    "n_train_hours = 25000\n",
    "train = values[:n_train_hours, :]\n",
    "test = values[n_train_hours:, :]\n",
    "# split into input and outputs\n",
    "train_X, train_y = train[:, :-1], train[:, -1]\n",
    "test_X, test_y = test[:, :-1], test[:, -1]\n",
    "# reshape input to be 3D [samples, timesteps, features]\n",
    "train_X = train_X.reshape((train_X.shape[0], 1, train_X.shape[1]))\n",
    "test_X = test_X.reshape((test_X.shape[0], 1, test_X.shape[1]))\n",
    "print(train_X.shape, train_y.shape, test_X.shape, test_y.shape)"
   ]
  },
  {
   "cell_type": "code",
   "execution_count": 9,
   "metadata": {},
   "outputs": [
    {
     "data": {
      "text/plain": [
       "(29973, 1, 4)"
      ]
     },
     "execution_count": 9,
     "metadata": {},
     "output_type": "execute_result"
    }
   ],
   "source": [
    "test_X.shape"
   ]
  },
  {
   "cell_type": "code",
   "execution_count": 10,
   "metadata": {
    "scrolled": true
   },
   "outputs": [
    {
     "name": "stdout",
     "output_type": "stream",
     "text": [
      "Train on 8760 samples, validate on 29973 samples\n",
      "Epoch 1/50\n",
      " - 3s - loss: 0.0017 - val_loss: 0.0013\n",
      "Epoch 2/50\n",
      " - 0s - loss: 0.0010 - val_loss: 0.0013\n",
      "Epoch 3/50\n",
      " - 0s - loss: 0.0010 - val_loss: 9.6338e-04\n",
      "Epoch 4/50\n",
      " - 0s - loss: 0.0010 - val_loss: 0.0015\n",
      "Epoch 5/50\n",
      " - 0s - loss: 9.6816e-04 - val_loss: 0.0011\n",
      "Epoch 6/50\n",
      " - 0s - loss: 0.0012 - val_loss: 0.0016\n",
      "Epoch 7/50\n",
      " - 0s - loss: 0.0010 - val_loss: 0.0014\n",
      "Epoch 8/50\n",
      " - 0s - loss: 0.0010 - val_loss: 0.0010\n",
      "Epoch 9/50\n",
      " - 0s - loss: 9.8406e-04 - val_loss: 0.0011\n",
      "Epoch 10/50\n",
      " - 0s - loss: 0.0011 - val_loss: 0.0010\n",
      "Epoch 11/50\n",
      " - 0s - loss: 0.0010 - val_loss: 0.0010\n",
      "Epoch 12/50\n",
      " - 0s - loss: 9.7298e-04 - val_loss: 0.0010\n",
      "Epoch 13/50\n",
      " - 0s - loss: 9.7395e-04 - val_loss: 0.0014\n",
      "Epoch 14/50\n",
      " - 0s - loss: 9.7709e-04 - val_loss: 0.0011\n",
      "Epoch 15/50\n",
      " - 0s - loss: 8.7589e-04 - val_loss: 0.0012\n",
      "Epoch 16/50\n",
      " - 1s - loss: 9.7502e-04 - val_loss: 0.0011\n",
      "Epoch 17/50\n",
      " - 0s - loss: 0.0010 - val_loss: 0.0014\n",
      "Epoch 18/50\n",
      " - 0s - loss: 0.0011 - val_loss: 0.0012\n",
      "Epoch 19/50\n",
      " - 0s - loss: 0.0011 - val_loss: 0.0013\n",
      "Epoch 20/50\n",
      " - 0s - loss: 9.5603e-04 - val_loss: 0.0010\n",
      "Epoch 21/50\n",
      " - 0s - loss: 0.0011 - val_loss: 0.0010\n",
      "Epoch 22/50\n",
      " - 0s - loss: 8.9631e-04 - val_loss: 0.0015\n",
      "Epoch 23/50\n",
      " - 0s - loss: 0.0011 - val_loss: 0.0013\n",
      "Epoch 24/50\n",
      " - 0s - loss: 9.6726e-04 - val_loss: 8.5444e-04\n",
      "Epoch 25/50\n",
      " - 0s - loss: 9.5174e-04 - val_loss: 0.0010\n",
      "Epoch 26/50\n",
      " - 0s - loss: 9.3115e-04 - val_loss: 0.0010\n",
      "Epoch 27/50\n",
      " - 0s - loss: 9.6502e-04 - val_loss: 9.6906e-04\n",
      "Epoch 28/50\n",
      " - 0s - loss: 0.0011 - val_loss: 0.0012\n",
      "Epoch 29/50\n",
      " - 0s - loss: 9.7892e-04 - val_loss: 9.2170e-04\n",
      "Epoch 30/50\n",
      " - 0s - loss: 9.2318e-04 - val_loss: 0.0012\n",
      "Epoch 31/50\n",
      " - 1s - loss: 0.0010 - val_loss: 0.0025\n",
      "Epoch 32/50\n",
      " - 0s - loss: 0.0011 - val_loss: 9.8837e-04\n",
      "Epoch 33/50\n",
      " - 0s - loss: 9.8828e-04 - val_loss: 0.0010\n",
      "Epoch 34/50\n",
      " - 0s - loss: 0.0011 - val_loss: 8.5212e-04\n",
      "Epoch 35/50\n",
      " - 0s - loss: 9.6457e-04 - val_loss: 9.3574e-04\n",
      "Epoch 36/50\n",
      " - 0s - loss: 8.7395e-04 - val_loss: 0.0011\n",
      "Epoch 37/50\n",
      " - 0s - loss: 9.9258e-04 - val_loss: 0.0010\n",
      "Epoch 38/50\n",
      " - 0s - loss: 9.5393e-04 - val_loss: 0.0014\n",
      "Epoch 39/50\n",
      " - 0s - loss: 0.0010 - val_loss: 0.0011\n",
      "Epoch 40/50\n",
      " - 0s - loss: 9.5107e-04 - val_loss: 8.6618e-04\n",
      "Epoch 41/50\n",
      " - 0s - loss: 9.0795e-04 - val_loss: 0.0013\n",
      "Epoch 42/50\n",
      " - 0s - loss: 9.8471e-04 - val_loss: 0.0011\n",
      "Epoch 43/50\n",
      " - 0s - loss: 9.5687e-04 - val_loss: 8.6102e-04\n",
      "Epoch 44/50\n",
      " - 0s - loss: 9.4635e-04 - val_loss: 0.0013\n",
      "Epoch 45/50\n",
      " - 0s - loss: 0.0010 - val_loss: 8.9393e-04\n",
      "Epoch 46/50\n",
      " - 0s - loss: 8.8304e-04 - val_loss: 8.5746e-04\n",
      "Epoch 47/50\n",
      " - 0s - loss: 0.0010 - val_loss: 9.8725e-04\n",
      "Epoch 48/50\n",
      " - 0s - loss: 0.0010 - val_loss: 9.1581e-04\n",
      "Epoch 49/50\n",
      " - 0s - loss: 0.0011 - val_loss: 9.4691e-04\n",
      "Epoch 50/50\n",
      " - 0s - loss: 9.6572e-04 - val_loss: 0.0012\n"
     ]
    },
    {
     "data": {
      "image/png": "[encoded data removed]",
      "text/plain": [
       "<Figure size 432x288 with 1 Axes>"
      ]
     },
     "metadata": {
      "needs_background": "light"
     },
     "output_type": "display_data"
    }
   ],
   "source": [
    "from tensorflow import keras as k\n",
    "#from keras.utils.visualize_util import plot\n",
    "from tensorflow.keras.models import Sequential\n",
    "from tensorflow.keras.layers import Dense,LSTM\n",
    "# design network\n",
    "model = Sequential()\n",
    "\n",
    "model.add(LSTM(50, input_shape=(train_X.shape[1], train_X.shape[2])))\n",
    "model.add(Dense(1))\n",
    "#model.add(Flatten())\n",
    "model.compile(loss='mae', optimizer='adam')\n",
    "# fit network\n",
    "history = model.fit(train_X, train_y, validation_split=0.33,epochs=50, batch_size=72, validation_data=(test_X, test_y), verbose=2, shuffle=False)\n",
    "# plot history\n",
    "pyplot.plot(history.history['loss'], label='train')\n",
    "pyplot.plot(history.history['val_loss'], label='test')\n",
    "pyplot.legend()\n",
    "pyplot.show()"
   ]
  },
  {
   "cell_type": "code",
   "execution_count": 11,
   "metadata": {
    "scrolled": true
   },
   "outputs": [
    {
     "name": "stdout",
     "output_type": "stream",
     "text": [
      "Test RMSE: 17077.053\n"
     ]
    }
   ],
   "source": [
    "# make a prediction\n",
    "\n",
    "yhat = model.predict(test_X)\n",
    "test_X = test_X.reshape((test_X.shape[0], test_X.shape[2]))\n",
    "\n",
    "# invert scaling for forecast\n",
    "inv_yhat = pandas.concat((pandas.DataFrame(yhat), pandas.DataFrame(test_X[:, 1:])), axis=1)\n",
    "inv_yhat = scaler.inverse_transform(inv_yhat)\n",
    "inv_yhat = inv_yhat[:,0]\n",
    "# invert scaling for actual\n",
    "test_y = test_y.reshape((len(test_y), 1))\n",
    "inv_y = pandas.concat((pandas.DataFrame(test_y), pandas.DataFrame(test_X[:, 1:])), axis=1)\n",
    "inv_y = scaler.inverse_transform(inv_y)\n",
    "inv_y = inv_y[:,0]\n",
    "# calculate RMSE\n",
    "rmse = math.sqrt(mean_squared_error(inv_y, inv_yhat))\n",
    "print('Test RMSE: %.3f' % rmse)"
   ]
  },
  {
   "cell_type": "code",
   "execution_count": 12,
   "metadata": {},
   "outputs": [
    {
     "data": {
      "text/plain": [
       "\"\\nCode to randomize data values in csv file \\n\\n\\nfrom pandas import read_csv\\nfrom matplotlib import pyplot\\ndataset = read_csv('ModifiedDataSet.csv', header=0, index_col=0)\\ndataset.values\\nds = dataset.sample(frac=1)\\nds.values\\nds.to_csv('DataSet.csv')\\n\""
      ]
     },
     "execution_count": 12,
     "metadata": {},
     "output_type": "execute_result"
    }
   ],
   "source": [
    "'''\n",
    "Code to randomize data values in csv file \n",
    "\n",
    "\n",
    "from pandas import read_csv\n",
    "from matplotlib import pyplot\n",
    "dataset = read_csv('ModifiedDataSet.csv', header=0, index_col=0)\n",
    "dataset.values\n",
    "ds = dataset.sample(frac=1)\n",
    "ds.values\n",
    "ds.to_csv('DataSet.csv')\n",
    "'''"
   ]
  },
  {
   "cell_type": "code",
   "execution_count": null,
   "metadata": {},
   "outputs": [],
   "source": []
  },
  {
   "cell_type": "code",
   "execution_count": null,
   "metadata": {},
   "outputs": [],
   "source": []
  }
 ],
 "metadata": {
  "kernelspec": {
   "display_name": "Python 3",
   "language": "python",
   "name": "python3"
  },
  "language_info": {
   "codemirror_mode": {
    "name": "ipython",
    "version": 3
   },
   "file_extension": ".py",
   "mimetype": "text/x-python",
   "name": "python",
   "nbconvert_exporter": "python",
   "pygments_lexer": "ipython3",
   "version": "3.6.6"
  }
 },
 "nbformat": 4,
 "nbformat_minor": 2
}
