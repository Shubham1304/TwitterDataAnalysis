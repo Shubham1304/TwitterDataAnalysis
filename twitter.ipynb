{
 "cells": [
  {
   "cell_type": "code",
   "execution_count": 1,
   "metadata": {},
   "outputs": [],
   "source": [
    "from pandas import read_csv\n",
    "from datetime import datetime\n",
    "from sklearn.metrics import mean_squared_error\n",
    "import math "
   ]
  },
  {
   "cell_type": "code",
   "execution_count": 26,
   "metadata": {},
   "outputs": [
    {
     "data": {
      "image/png": "[encoded data removed]",
      "text/plain": [
       "<Figure size 432x288 with 4 Axes>"
      ]
     },
     "metadata": {
      "needs_background": "light"
     },
     "output_type": "display_data"
    },
    {
     "name": "stdout",
     "output_type": "stream",
     "text": [
      "['setosa' 'versicolor' 'virginica']\n"
     ]
    }
   ],
   "source": [
    "from pandas import read_csv\n",
    "from matplotlib import pyplot\n",
    "# load dataset\n",
    "dataset = read_csv('DataSet.csv', header=0, index_col=0)\n",
    "dataset.values\n",
    "values = dataset.values\n",
    "# specify columns to plot\n",
    "groups = [0, 1, 2, 3]\n",
    "i = 1\n",
    "# plot each column\n",
    "pyplot.figure()\n",
    "for group in groups:\n",
    "    pyplot.subplot(len(groups), 1, i)\n",
    "    pyplot.plot(values[:, group])\n",
    "    pyplot.title(dataset.columns[group], y=1, loc='right')\n",
    "    i += 1\n",
    "pyplot.show()\n",
    "class_names = iris.target_names\n",
    "print (class_names)\n"
   ]
  },
  {
   "cell_type": "code",
   "execution_count": 3,
   "metadata": {},
   "outputs": [
    {
     "data": {
      "text/plain": [
       "array([0.   , 2.   , 0.136, 2.   ])"
      ]
     },
     "execution_count": 3,
     "metadata": {},
     "output_type": "execute_result"
    }
   ],
   "source": [
    "values[1]"
   ]
  },
  {
   "cell_type": "code",
   "execution_count": 4,
   "metadata": {},
   "outputs": [
    {
     "name": "stdout",
     "output_type": "stream",
     "text": [
      "                  retweet_count  favorite_count  followers_count  \\\n",
      "date                                                               \n",
      "12-04-2014 05:44            254             814          43.0000   \n",
      "10-05-2016 20:41              0               2           0.1360   \n",
      "26-09-2018 15:10              1               0           0.0364   \n",
      "22-11-2018 07:47             14               0           1.4300   \n",
      "07-02-2019 11:31            685               0           0.4350   \n",
      "\n",
      "                  predict_class_label  \n",
      "date                                   \n",
      "12-04-2014 05:44                    4  \n",
      "10-05-2016 20:41                    2  \n",
      "26-09-2018 15:10                    4  \n",
      "22-11-2018 07:47                    4  \n",
      "07-02-2019 11:31                    1  \n"
     ]
    }
   ],
   "source": [
    "print (dataset.head())"
   ]
  },
  {
   "cell_type": "code",
   "execution_count": 5,
   "metadata": {},
   "outputs": [
    {
     "name": "stdout",
     "output_type": "stream",
     "text": [
      "      var1(t-1)  var2(t-1)  var3(t-1)  var4(t-1)       var1(t)\n",
      "1  1.530788e-04   0.000557        1.0   1.000000  0.000000e+00\n",
      "2  0.000000e+00   0.000001        0.2   0.333333  6.026725e-07\n",
      "3  6.026725e-07   0.000000        0.0   1.000000  8.437415e-06\n",
      "4  8.437415e-06   0.000000        0.6   1.000000  4.128307e-04\n",
      "5  4.128307e-04   0.000000        0.4   0.000000  4.218708e-06\n"
     ]
    }
   ],
   "source": [
    "import pandas\n",
    "from sklearn.preprocessing import LabelEncoder\n",
    "from sklearn.preprocessing import MinMaxScaler\n",
    "from pandas import DataFrame\n",
    "# convert series to supervised learning\n",
    "def series_to_supervised(data, n_in=1, n_out=1, dropnan=True):\n",
    "\tn_vars = 1 if type(data) is list else data.shape[1]\n",
    "\tdf = DataFrame(data)\n",
    "\tcols, names = list(), list()\n",
    "\t# input sequence (t-n, ... t-1)\n",
    "\tfor i in range(n_in, 0, -1):\n",
    "\t\tcols.append(df.shift(i))\n",
    "\t\tnames += [('var%d(t-%d)' % (j+1, i)) for j in range(n_vars)]\n",
    "\t# forecast sequence (t, t+1, ... t+n)\n",
    "\tfor i in range(0, n_out):\n",
    "\t\tcols.append(df.shift(-i))\n",
    "\t\tif i == 0:\n",
    "\t\t\tnames += [('var%d(t)' % (j+1)) for j in range(n_vars)]\n",
    "\t\telse:\n",
    "\t\t\tnames += [('var%d(t+%d)' % (j+1, i)) for j in range(n_vars)]\n",
    "\t# put it all together\n",
    "\tagg = pandas.concat(cols, axis=1)\n",
    "\tagg.columns = names\n",
    "\t# drop rows with NaN values\n",
    "\tif dropnan:\n",
    "\t\tagg.dropna(inplace=True)\n",
    "\treturn agg\n",
    " \n",
    "# load dataset\n",
    "dataset = read_csv('DataSet.csv', header=0, index_col=0)\n",
    "values = dataset.values\n",
    "# integer encode direction\n",
    "encoder = LabelEncoder()\n",
    "values[:,2] = encoder.fit_transform(values[:,2])\n",
    "# ensure all data is float\n",
    "values = values.astype('float32')\n",
    "# normalize features\n",
    "scaler = MinMaxScaler(feature_range=(0, 1))\n",
    "scaled = scaler.fit_transform(values)\n",
    "# frame as supervised learning\n",
    "reframed = series_to_supervised(scaled, 1, 1)\n",
    "# drop columns we don't want to predict\n",
    "reframed.drop(reframed.columns[[5,6,7,]], axis=1, inplace=True)\n",
    "print(reframed.head())"
   ]
  },
  {
   "cell_type": "code",
   "execution_count": 6,
   "metadata": {},
   "outputs": [
    {
     "data": {
      "text/plain": [
       "array([[2.540e+02, 8.140e+02, 4.300e+01, 4.000e+00],\n",
       "       [0.000e+00, 2.000e+00, 1.360e-01, 2.000e+00],\n",
       "       [1.000e+00, 0.000e+00, 3.640e-02, 4.000e+00],\n",
       "       ...,\n",
       "       [1.375e+03, 5.720e+02, 4.300e+01, 2.000e+00],\n",
       "       [1.200e+01, 0.000e+00, 1.430e+00, 3.000e+00],\n",
       "       [1.700e+01, 5.300e+01, 1.430e+00, 3.000e+00]])"
      ]
     },
     "execution_count": 6,
     "metadata": {},
     "output_type": "execute_result"
    }
   ],
   "source": [
    "dataset.values"
   ]
  },
  {
   "cell_type": "code",
   "execution_count": 7,
   "metadata": {},
   "outputs": [
    {
     "data": {
      "text/html": [
       "<div>\n",
       "<style scoped>\n",
       "    .dataframe tbody tr th:only-of-type {\n",
       "        vertical-align: middle;\n",
       "    }\n",
       "\n",
       "    .dataframe tbody tr th {\n",
       "        vertical-align: top;\n",
       "    }\n",
       "\n",
       "    .dataframe thead th {\n",
       "        text-align: right;\n",
       "    }\n",
       "</style>\n",
       "<table border=\"1\" class=\"dataframe\">\n",
       "  <thead>\n",
       "    <tr style=\"text-align: right;\">\n",
       "      <th></th>\n",
       "      <th>retweet_count</th>\n",
       "      <th>favorite_count</th>\n",
       "      <th>followers_count</th>\n",
       "      <th>predict_class_label</th>\n",
       "    </tr>\n",
       "    <tr>\n",
       "      <th>date</th>\n",
       "      <th></th>\n",
       "      <th></th>\n",
       "      <th></th>\n",
       "      <th></th>\n",
       "    </tr>\n",
       "  </thead>\n",
       "  <tbody>\n",
       "    <tr>\n",
       "      <th>12-04-2014 05:44</th>\n",
       "      <td>254</td>\n",
       "      <td>814</td>\n",
       "      <td>43.0000</td>\n",
       "      <td>4</td>\n",
       "    </tr>\n",
       "    <tr>\n",
       "      <th>10-05-2016 20:41</th>\n",
       "      <td>0</td>\n",
       "      <td>2</td>\n",
       "      <td>0.1360</td>\n",
       "      <td>2</td>\n",
       "    </tr>\n",
       "    <tr>\n",
       "      <th>26-09-2018 15:10</th>\n",
       "      <td>1</td>\n",
       "      <td>0</td>\n",
       "      <td>0.0364</td>\n",
       "      <td>4</td>\n",
       "    </tr>\n",
       "    <tr>\n",
       "      <th>22-11-2018 07:47</th>\n",
       "      <td>14</td>\n",
       "      <td>0</td>\n",
       "      <td>1.4300</td>\n",
       "      <td>4</td>\n",
       "    </tr>\n",
       "    <tr>\n",
       "      <th>07-02-2019 11:31</th>\n",
       "      <td>685</td>\n",
       "      <td>0</td>\n",
       "      <td>0.4350</td>\n",
       "      <td>1</td>\n",
       "    </tr>\n",
       "  </tbody>\n",
       "</table>\n",
       "</div>"
      ],
      "text/plain": [
       "                  retweet_count  favorite_count  followers_count  \\\n",
       "date                                                               \n",
       "12-04-2014 05:44            254             814          43.0000   \n",
       "10-05-2016 20:41              0               2           0.1360   \n",
       "26-09-2018 15:10              1               0           0.0364   \n",
       "22-11-2018 07:47             14               0           1.4300   \n",
       "07-02-2019 11:31            685               0           0.4350   \n",
       "\n",
       "                  predict_class_label  \n",
       "date                                   \n",
       "12-04-2014 05:44                    4  \n",
       "10-05-2016 20:41                    2  \n",
       "26-09-2018 15:10                    4  \n",
       "22-11-2018 07:47                    4  \n",
       "07-02-2019 11:31                    1  "
      ]
     },
     "execution_count": 7,
     "metadata": {},
     "output_type": "execute_result"
    }
   ],
   "source": [
    "dataset.head()"
   ]
  },
  {
   "cell_type": "code",
   "execution_count": 39,
   "metadata": {},
   "outputs": [
    {
     "name": "stdout",
     "output_type": "stream",
     "text": [
      "(25951, 1, 4) (25951,) (12782, 1, 4) (12782,)\n"
     ]
    }
   ],
   "source": [
    "# split into train and test sets\n",
    "from sklearn.model_selection import train_test_split\n",
    "values = reframed.values\n",
    "X=values[:, :-1]\n",
    "y=values[:, -1]\n",
    "\n",
    "train_X, test_X, train_y , test_y = train_test_split(X, y, test_size=0.33, random_state=42)\n",
    "\n",
    "# reshape input to be 3D [samples, timesteps, features]\n",
    "train_X = train_X.reshape((train_X.shape[0], 1, train_X.shape[1]))\n",
    "test_X = test_X.reshape((test_X.shape[0], 1, test_X.shape[1]))\n",
    "print(train_X.shape, train_y.shape, test_X.shape, test_y.shape)"
   ]
  },
  {
   "cell_type": "code",
   "execution_count": 17,
   "metadata": {},
   "outputs": [
    {
     "data": {
      "text/plain": [
       "(12782, 1, 4)"
      ]
     },
     "execution_count": 17,
     "metadata": {},
     "output_type": "execute_result"
    }
   ],
   "source": [
    "test_X.shape"
   ]
  },
  {
   "cell_type": "code",
   "execution_count": 10,
   "metadata": {
    "scrolled": true
   },
   "outputs": [
    {
     "name": "stdout",
     "output_type": "stream",
     "text": [
      "Train on 25951 samples, validate on 12782 samples\n",
      "Epoch 1/50\n",
      " - 2s - loss: 0.0021 - val_loss: 9.1007e-04\n",
      "Epoch 2/50\n",
      " - 1s - loss: 0.0011 - val_loss: 9.2943e-04\n",
      "Epoch 3/50\n",
      " - 1s - loss: 0.0011 - val_loss: 0.0013\n",
      "Epoch 4/50\n",
      " - 1s - loss: 0.0011 - val_loss: 9.9770e-04\n",
      "Epoch 5/50\n",
      " - 1s - loss: 0.0012 - val_loss: 0.0011\n",
      "Epoch 6/50\n",
      " - 1s - loss: 0.0011 - val_loss: 0.0010\n",
      "Epoch 7/50\n",
      " - 1s - loss: 0.0011 - val_loss: 9.9661e-04\n",
      "Epoch 8/50\n",
      " - 1s - loss: 0.0011 - val_loss: 9.8659e-04\n",
      "Epoch 9/50\n",
      " - 1s - loss: 0.0012 - val_loss: 0.0011\n",
      "Epoch 10/50\n",
      " - 1s - loss: 0.0011 - val_loss: 9.0945e-04\n",
      "Epoch 11/50\n",
      " - 1s - loss: 0.0012 - val_loss: 8.4861e-04\n",
      "Epoch 12/50\n",
      " - 1s - loss: 0.0011 - val_loss: 9.7117e-04\n",
      "Epoch 13/50\n",
      " - 1s - loss: 0.0012 - val_loss: 0.0010\n",
      "Epoch 14/50\n",
      " - 1s - loss: 0.0012 - val_loss: 9.2881e-04\n",
      "Epoch 15/50\n",
      " - 1s - loss: 0.0011 - val_loss: 0.0012\n",
      "Epoch 16/50\n",
      " - 1s - loss: 0.0011 - val_loss: 9.3817e-04\n",
      "Epoch 17/50\n",
      " - 1s - loss: 0.0010 - val_loss: 8.8596e-04\n",
      "Epoch 18/50\n",
      " - 1s - loss: 0.0012 - val_loss: 0.0012\n",
      "Epoch 19/50\n",
      " - 1s - loss: 0.0011 - val_loss: 0.0013\n",
      "Epoch 20/50\n",
      " - 1s - loss: 0.0011 - val_loss: 0.0011\n",
      "Epoch 21/50\n",
      " - 1s - loss: 0.0011 - val_loss: 0.0011\n",
      "Epoch 22/50\n",
      " - 1s - loss: 0.0011 - val_loss: 9.1862e-04\n",
      "Epoch 23/50\n",
      " - 1s - loss: 0.0011 - val_loss: 0.0011\n",
      "Epoch 24/50\n",
      " - 1s - loss: 0.0010 - val_loss: 9.4408e-04\n",
      "Epoch 25/50\n",
      " - 1s - loss: 0.0011 - val_loss: 0.0014\n",
      "Epoch 26/50\n",
      " - 1s - loss: 0.0011 - val_loss: 0.0011\n",
      "Epoch 27/50\n",
      " - 1s - loss: 0.0011 - val_loss: 0.0012\n",
      "Epoch 28/50\n",
      " - 1s - loss: 0.0010 - val_loss: 0.0011\n",
      "Epoch 29/50\n",
      " - 1s - loss: 0.0010 - val_loss: 9.7744e-04\n",
      "Epoch 30/50\n",
      " - 1s - loss: 0.0010 - val_loss: 9.8730e-04\n",
      "Epoch 31/50\n",
      " - 1s - loss: 0.0010 - val_loss: 0.0010\n",
      "Epoch 32/50\n",
      " - 1s - loss: 0.0010 - val_loss: 0.0011\n",
      "Epoch 33/50\n",
      " - 1s - loss: 0.0011 - val_loss: 8.6881e-04\n",
      "Epoch 34/50\n",
      " - 1s - loss: 0.0010 - val_loss: 8.2960e-04\n",
      "Epoch 35/50\n",
      " - 1s - loss: 0.0010 - val_loss: 9.3968e-04\n",
      "Epoch 36/50\n",
      " - 1s - loss: 0.0010 - val_loss: 0.0017\n",
      "Epoch 37/50\n",
      " - 1s - loss: 0.0011 - val_loss: 0.0010\n",
      "Epoch 38/50\n",
      " - 1s - loss: 0.0011 - val_loss: 9.9766e-04\n",
      "Epoch 39/50\n",
      " - 1s - loss: 0.0010 - val_loss: 0.0011\n",
      "Epoch 40/50\n",
      " - 1s - loss: 0.0010 - val_loss: 9.0467e-04\n",
      "Epoch 41/50\n",
      " - 1s - loss: 0.0011 - val_loss: 0.0011\n",
      "Epoch 42/50\n",
      " - 1s - loss: 0.0010 - val_loss: 0.0011\n",
      "Epoch 43/50\n",
      " - 1s - loss: 9.9877e-04 - val_loss: 9.1693e-04\n",
      "Epoch 44/50\n",
      " - 1s - loss: 9.6255e-04 - val_loss: 0.0010\n",
      "Epoch 45/50\n",
      " - 1s - loss: 0.0010 - val_loss: 9.4745e-04\n",
      "Epoch 46/50\n",
      " - 1s - loss: 9.7880e-04 - val_loss: 8.7661e-04\n",
      "Epoch 47/50\n",
      " - 1s - loss: 0.0010 - val_loss: 8.8021e-04\n",
      "Epoch 48/50\n",
      " - 1s - loss: 0.0010 - val_loss: 0.0011\n",
      "Epoch 49/50\n",
      " - 1s - loss: 9.7732e-04 - val_loss: 9.7924e-04\n",
      "Epoch 50/50\n",
      " - 1s - loss: 9.4581e-04 - val_loss: 9.0319e-04\n"
     ]
    },
    {
     "data": {
      "image/png": "[encoded data removed]",
      "text/plain": [
       "<Figure size 432x288 with 1 Axes>"
      ]
     },
     "metadata": {
      "needs_background": "light"
     },
     "output_type": "display_data"
    }
   ],
   "source": [
    "from tensorflow import keras as k\n",
    "#from keras.utils.visualize_util import plot\n",
    "from tensorflow.keras.models import Sequential\n",
    "from tensorflow.keras.layers import Dense,LSTM\n",
    "# design network\n",
    "model = Sequential()\n",
    "\n",
    "model.add(LSTM(50, input_shape=(train_X.shape[1], train_X.shape[2])))\n",
    "model.add(Dense(1))\n",
    "#model.add(Flatten())\n",
    "model.compile(loss='mae', optimizer='adam')\n",
    "# fit network\n",
    "history = model.fit(train_X, train_y, validation_split=0.33,epochs=50, batch_size=72, validation_data=(test_X, test_y), verbose=2, shuffle=False)\n",
    "# plot history\n",
    "pyplot.plot(history.history['loss'], label='train')\n",
    "pyplot.plot(history.history['val_loss'], label='test')\n",
    "pyplot.legend()\n",
    "pyplot.show()"
   ]
  },
  {
   "cell_type": "code",
   "execution_count": 40,
   "metadata": {
    "scrolled": true
   },
   "outputs": [
    {
     "name": "stdout",
     "output_type": "stream",
     "text": [
      "[ 45.   2.   0. ...   0. 758.  12.] [579.64 588.94 589.92 ... 260.32  58.69 634.01]\n",
      "Test RMSE: 19426.369\n"
     ]
    }
   ],
   "source": [
    "# make a prediction\n",
    "\n",
    "yhat = model.predict(test_X)\n",
    "test_X = test_X.reshape((test_X.shape[0], test_X.shape[2]))\n",
    "\n",
    "# invert scaling for forecast\n",
    "inv_yhat = pandas.concat((pandas.DataFrame(yhat), pandas.DataFrame(test_X[:, 1:])), axis=1)\n",
    "inv_yhat = scaler.inverse_transform(inv_yhat)\n",
    "inv_yhat = inv_yhat[:,0]\n",
    "# invert scaling for actual\n",
    "test_y = test_y.reshape((len(test_y), 1))\n",
    "inv_y = pandas.concat((pandas.DataFrame(test_y), pandas.DataFrame(test_X[:, 1:])), axis=1)\n",
    "inv_y = scaler.inverse_transform(inv_y)\n",
    "inv_y = inv_y[:,0]\n",
    "# calculate RMSE\n",
    "rmse = math.sqrt(mean_squared_error(inv_y, inv_yhat))\n",
    "print ((inv_y),(inv_yhat))\n",
    "print('Test RMSE: %.3f' % rmse)"
   ]
  },
  {
   "cell_type": "code",
   "execution_count": 59,
   "metadata": {},
   "outputs": [
    {
     "name": "stdout",
     "output_type": "stream",
     "text": [
      "<class 'numpy.ndarray'>\n",
      "9.0\n",
      "9.0\n"
     ]
    }
   ],
   "source": [
    "print(type(inv_y))\n",
    "\n",
    "for i in range (0,len(inv_y)-1):\n",
    "    inv_y[i] =  int(inv_y[i])\n",
    "print (inv_y[100])\n",
    "for i in range (0,len(inv_yhat)-1):\n",
    "    inv_yhat[i] =  int(inv_yhat[i])\n",
    "print (inv_y[100])"
   ]
  },
  {
   "cell_type": "code",
   "execution_count": null,
   "metadata": {},
   "outputs": [],
   "source": []
  },
  {
   "cell_type": "code",
   "execution_count": 61,
   "metadata": {},
   "outputs": [
    {
     "name": "stdout",
     "output_type": "stream",
     "text": [
      "\n",
      "classifier = svm.SVC(kernel='linear', C=0.01)\n",
      "y_pred = classifier.fit(X_train, y_train).predict(X_test)\n",
      "\n",
      "\n",
      "['setosa' 'versicolor' 'virginica']\n"
     ]
    },
    {
     "ename": "ValueError",
     "evalue": "Found input variables with inconsistent numbers of samples: [9684, 38]",
     "output_type": "error",
     "traceback": [
      "\u001b[0;31m---------------------------------------------------------------------------\u001b[0m",
      "\u001b[0;31mValueError\u001b[0m                                Traceback (most recent call last)",
      "\u001b[0;32m<ipython-input-61-2839791c6f88>\u001b[0m in \u001b[0;36m<module>\u001b[0;34m\u001b[0m\n\u001b[1;32m     62\u001b[0m \u001b[0;34m\u001b[0m\u001b[0m\n\u001b[1;32m     63\u001b[0m \u001b[0;31m# Compute confusion matrix\u001b[0m\u001b[0;34m\u001b[0m\u001b[0;34m\u001b[0m\u001b[0m\n\u001b[0;32m---> 64\u001b[0;31m \u001b[0mcnf_matrix\u001b[0m \u001b[0;34m=\u001b[0m \u001b[0mconfusion_matrix\u001b[0m\u001b[0;34m(\u001b[0m\u001b[0my_test\u001b[0m\u001b[0;34m,\u001b[0m \u001b[0my_pred\u001b[0m\u001b[0;34m)\u001b[0m\u001b[0;34m\u001b[0m\u001b[0m\n\u001b[0m\u001b[1;32m     65\u001b[0m \u001b[0;31m#cnf_matrix = confusion_matrix(y_test, y_pred)\u001b[0m\u001b[0;34m\u001b[0m\u001b[0;34m\u001b[0m\u001b[0m\n\u001b[1;32m     66\u001b[0m \u001b[0mprint\u001b[0m \u001b[0;34m(\u001b[0m\u001b[0mtype\u001b[0m\u001b[0;34m(\u001b[0m\u001b[0my_test\u001b[0m\u001b[0;34m)\u001b[0m\u001b[0;34m)\u001b[0m\u001b[0;34m\u001b[0m\u001b[0m\n",
      "\u001b[0;32m/usr/local/lib/python3.6/dist-packages/sklearn/metrics/classification.py\u001b[0m in \u001b[0;36mconfusion_matrix\u001b[0;34m(y_true, y_pred, labels, sample_weight)\u001b[0m\n\u001b[1;32m    251\u001b[0m \u001b[0;34m\u001b[0m\u001b[0m\n\u001b[1;32m    252\u001b[0m     \"\"\"\n\u001b[0;32m--> 253\u001b[0;31m     \u001b[0my_type\u001b[0m\u001b[0;34m,\u001b[0m \u001b[0my_true\u001b[0m\u001b[0;34m,\u001b[0m \u001b[0my_pred\u001b[0m \u001b[0;34m=\u001b[0m \u001b[0m_check_targets\u001b[0m\u001b[0;34m(\u001b[0m\u001b[0my_true\u001b[0m\u001b[0;34m,\u001b[0m \u001b[0my_pred\u001b[0m\u001b[0;34m)\u001b[0m\u001b[0;34m\u001b[0m\u001b[0m\n\u001b[0m\u001b[1;32m    254\u001b[0m     \u001b[0;32mif\u001b[0m \u001b[0my_type\u001b[0m \u001b[0;32mnot\u001b[0m \u001b[0;32min\u001b[0m \u001b[0;34m(\u001b[0m\u001b[0;34m\"binary\"\u001b[0m\u001b[0;34m,\u001b[0m \u001b[0;34m\"multiclass\"\u001b[0m\u001b[0;34m)\u001b[0m\u001b[0;34m:\u001b[0m\u001b[0;34m\u001b[0m\u001b[0m\n\u001b[1;32m    255\u001b[0m         \u001b[0;32mraise\u001b[0m \u001b[0mValueError\u001b[0m\u001b[0;34m(\u001b[0m\u001b[0;34m\"%s is not supported\"\u001b[0m \u001b[0;34m%\u001b[0m \u001b[0my_type\u001b[0m\u001b[0;34m)\u001b[0m\u001b[0;34m\u001b[0m\u001b[0m\n",
      "\u001b[0;32m/usr/local/lib/python3.6/dist-packages/sklearn/metrics/classification.py\u001b[0m in \u001b[0;36m_check_targets\u001b[0;34m(y_true, y_pred)\u001b[0m\n\u001b[1;32m     69\u001b[0m     \u001b[0my_pred\u001b[0m \u001b[0;34m:\u001b[0m \u001b[0marray\u001b[0m \u001b[0;32mor\u001b[0m \u001b[0mindicator\u001b[0m \u001b[0mmatrix\u001b[0m\u001b[0;34m\u001b[0m\u001b[0m\n\u001b[1;32m     70\u001b[0m     \"\"\"\n\u001b[0;32m---> 71\u001b[0;31m     \u001b[0mcheck_consistent_length\u001b[0m\u001b[0;34m(\u001b[0m\u001b[0my_true\u001b[0m\u001b[0;34m,\u001b[0m \u001b[0my_pred\u001b[0m\u001b[0;34m)\u001b[0m\u001b[0;34m\u001b[0m\u001b[0m\n\u001b[0m\u001b[1;32m     72\u001b[0m     \u001b[0mtype_true\u001b[0m \u001b[0;34m=\u001b[0m \u001b[0mtype_of_target\u001b[0m\u001b[0;34m(\u001b[0m\u001b[0my_true\u001b[0m\u001b[0;34m)\u001b[0m\u001b[0;34m\u001b[0m\u001b[0m\n\u001b[1;32m     73\u001b[0m     \u001b[0mtype_pred\u001b[0m \u001b[0;34m=\u001b[0m \u001b[0mtype_of_target\u001b[0m\u001b[0;34m(\u001b[0m\u001b[0my_pred\u001b[0m\u001b[0;34m)\u001b[0m\u001b[0;34m\u001b[0m\u001b[0m\n",
      "\u001b[0;32m/usr/local/lib/python3.6/dist-packages/sklearn/utils/validation.py\u001b[0m in \u001b[0;36mcheck_consistent_length\u001b[0;34m(*arrays)\u001b[0m\n\u001b[1;32m    228\u001b[0m     \u001b[0;32mif\u001b[0m \u001b[0mlen\u001b[0m\u001b[0;34m(\u001b[0m\u001b[0muniques\u001b[0m\u001b[0;34m)\u001b[0m \u001b[0;34m>\u001b[0m \u001b[0;36m1\u001b[0m\u001b[0;34m:\u001b[0m\u001b[0;34m\u001b[0m\u001b[0m\n\u001b[1;32m    229\u001b[0m         raise ValueError(\"Found input variables with inconsistent numbers of\"\n\u001b[0;32m--> 230\u001b[0;31m                          \" samples: %r\" % [int(l) for l in lengths])\n\u001b[0m\u001b[1;32m    231\u001b[0m \u001b[0;34m\u001b[0m\u001b[0m\n\u001b[1;32m    232\u001b[0m \u001b[0;34m\u001b[0m\u001b[0m\n",
      "\u001b[0;31mValueError\u001b[0m: Found input variables with inconsistent numbers of samples: [9684, 38]"
     ]
    }
   ],
   "source": [
    "print(__doc__)\n",
    "\n",
    "import itertools\n",
    "import numpy as np\n",
    "import matplotlib.pyplot as plt\n",
    "\n",
    "from sklearn import svm, datasets\n",
    "from sklearn.model_selection import train_test_split\n",
    "from sklearn.metrics import confusion_matrix\n",
    "\n",
    "# import some data to play with\n",
    "'''iris = datasets.load_iris()\n",
    "X = iris.data\n",
    "y = iris.target\n",
    "'''\n",
    "class_names = iris.target_names\n",
    "print (class_names)\n",
    "# Split the data into a training set and a test set\n",
    "X_train, X_test, y_train, y_test = train_test_split(X, y, random_state=0)\n",
    "\n",
    "# Run classifier, using a model that is too regularized (C too low) to see\n",
    "# the impact on the results\n",
    "'''\n",
    "classifier = svm.SVC(kernel='linear', C=0.01)\n",
    "y_pred = classifier.fit(X_train, y_train).predict(X_test)\n",
    "\n",
    "'''\n",
    "def plot_confusion_matrix(cm, classes,\n",
    "                          normalize=False,\n",
    "                          title='Confusion matrix',\n",
    "                          cmap=plt.cm.Blues):\n",
    "    \"\"\"\n",
    "    This function prints and plots the confusion matrix.\n",
    "    Normalization can be applied by setting `normalize=True`.\n",
    "    \"\"\"\n",
    "    if normalize:\n",
    "        cm = cm.astype('float') / cm.sum(axis=1)[:, np.newaxis]\n",
    "        print(\"Normalized confusion matrix\")\n",
    "    else:\n",
    "        print('Confusion matrix, without normalization')\n",
    "\n",
    "    print(cm)\n",
    "\n",
    "    plt.imshow(cm, interpolation='nearest', cmap=cmap)\n",
    "    plt.title(title)\n",
    "    plt.colorbar()\n",
    "    tick_marks = np.arange(len(classes))\n",
    "    plt.xticks(tick_marks, classes, rotation=45)\n",
    "    plt.yticks(tick_marks, classes)\n",
    "\n",
    "    fmt = '.2f' if normalize else 'd'\n",
    "    thresh = cm.max() / 2.\n",
    "    for i, j in itertools.product(range(cm.shape[0]), range(cm.shape[1])):\n",
    "        plt.text(j, i, format(cm[i, j], fmt),\n",
    "                 horizontalalignment=\"center\",\n",
    "                 color=\"white\" if cm[i, j] > thresh else \"black\")\n",
    "\n",
    "    plt.ylabel('True label')\n",
    "    plt.xlabel('Predicted label')\n",
    "    plt.tight_layout()\n",
    "\n",
    "\n",
    "# Compute confusion matrix\n",
    "cnf_matrix = confusion_matrix(y_test, y_pred)\n",
    "#cnf_matrix = confusion_matrix(y_test, y_pred)\n",
    "print (type(y_test))\n",
    "\n",
    "print(y_test,y_pred)\n",
    "np.set_printoptions(precision=2)\n",
    "\n",
    "# Plot non-normalized confusion matrix\n",
    "plt.figure()\n",
    "plot_confusion_matrix(cnf_matrix, classes=class_names,\n",
    "                      title='Confusion matrix, without normalization')\n",
    "\n",
    "# Plot normalized confusion matrix\n",
    "plt.figure()\n",
    "plot_confusion_matrix(cnf_matrix, classes=class_names, normalize=True,\n",
    "                      title='Normalized confusion matrix')\n",
    "\n",
    "plt.show()\n"
   ]
  },
  {
   "cell_type": "code",
   "execution_count": 14,
   "metadata": {},
   "outputs": [],
   "source": [
    "X_train, X_test, y_train, y_test = train_test_split(\n",
    "...     X, y, test_size=0.33, random_state=42)"
   ]
  },
  {
   "cell_type": "code",
   "execution_count": null,
   "metadata": {},
   "outputs": [],
   "source": []
  }
 ],
 "metadata": {
  "kernelspec": {
   "display_name": "Python 3",
   "language": "python",
   "name": "python3"
  },
  "language_info": {
   "codemirror_mode": {
    "name": "ipython",
    "version": 3
   },
   "file_extension": ".py",
   "mimetype": "text/x-python",
   "name": "python",
   "nbconvert_exporter": "python",
   "pygments_lexer": "ipython3",
   "version": "3.6.6"
  }
 },
 "nbformat": 4,
 "nbformat_minor": 2
}
